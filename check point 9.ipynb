{
 "cells": [
  {
   "cell_type": "code",
   "execution_count": 1,
   "id": "4429835f",
   "metadata": {},
   "outputs": [
    {
     "data": {
      "text/plain": [
       "14"
      ]
     },
     "execution_count": 1,
     "metadata": {},
     "output_type": "execute_result"
    }
   ],
   "source": [
    "mylist=[14, \"hello\", 967]\n",
    "mylist[0]#Question 1"
   ]
  },
  {
   "cell_type": "code",
   "execution_count": 14,
   "id": "d8187bb3",
   "metadata": {},
   "outputs": [],
   "source": [
    "import pandas\n",
    "import numpy#Question 2 "
   ]
  },
  {
   "cell_type": "code",
   "execution_count": 18,
   "id": "a9ea37d6",
   "metadata": {},
   "outputs": [
    {
     "name": "stdout",
     "output_type": "stream",
     "text": [
      "Python Errors\n"
     ]
    }
   ],
   "source": [
    "print(\"Python Errors\")#Question 3"
   ]
  },
  {
   "cell_type": "code",
   "execution_count": 20,
   "id": "72949874",
   "metadata": {},
   "outputs": [
    {
     "data": {
      "text/plain": [
       "'hello'"
      ]
     },
     "execution_count": 20,
     "metadata": {},
     "output_type": "execute_result"
    }
   ],
   "source": [
    "mydictionnary={'True':\"hello\",'False':\"bye\", '3':\"python\"}\n",
    "mydictionnary['True']#Question 4"
   ]
  },
  {
   "cell_type": "code",
   "execution_count": 25,
   "id": "cf47133c",
   "metadata": {},
   "outputs": [
    {
     "name": "stdout",
     "output_type": "stream",
     "text": [
      "14\n",
      "15\n",
      "16\n",
      "17\n",
      "18\n",
      "19\n",
      "20\n",
      "21\n",
      "22\n",
      "23\n",
      "24\n",
      "25\n",
      "26\n",
      "27\n",
      "28\n",
      "29\n",
      "30\n",
      "31\n",
      "32\n",
      "33\n",
      "34\n",
      "35\n",
      "36\n",
      "37\n",
      "38\n",
      "39\n",
      "40\n",
      "41\n",
      "42\n",
      "43\n",
      "44\n",
      "45\n",
      "46\n",
      "47\n",
      "48\n",
      "49\n",
      "50\n",
      "51\n",
      "52\n",
      "53\n",
      "54\n",
      "55\n",
      "56\n",
      "57\n",
      "58\n",
      "59\n",
      "60\n",
      "61\n",
      "62\n",
      "63\n",
      "64\n",
      "65\n",
      "66\n",
      "67\n",
      "68\n",
      "69\n",
      "70\n",
      "71\n",
      "72\n",
      "73\n",
      "74\n",
      "75\n",
      "76\n",
      "77\n"
     ]
    }
   ],
   "source": [
    "i=14\n",
    "while i<78:\n",
    "    print(i)\n",
    "    i+=1#Question 5"
   ]
  },
  {
   "cell_type": "code",
   "execution_count": 33,
   "id": "9e21e481",
   "metadata": {},
   "outputs": [
    {
     "data": {
      "text/plain": [
       "<list_iterator at 0x2782d4d26a0>"
      ]
     },
     "execution_count": 33,
     "metadata": {},
     "output_type": "execute_result"
    }
   ],
   "source": [
    "it=iter([1,2,3])\n",
    "next(it)\n",
    "next(it)\n",
    "next(it)\n",
    "(it)#Question 6"
   ]
  },
  {
   "cell_type": "code",
   "execution_count": 32,
   "id": "2d33d48c",
   "metadata": {},
   "outputs": [
    {
     "data": {
      "text/plain": [
       "'1515'"
      ]
     },
     "execution_count": 32,
     "metadata": {},
     "output_type": "execute_result"
    }
   ],
   "source": [
    "'15'+str(15)#Question 7"
   ]
  },
  {
   "cell_type": "code",
   "execution_count": 44,
   "id": "3c8c071f",
   "metadata": {},
   "outputs": [
    {
     "data": {
      "text/plain": [
       "'python'"
      ]
     },
     "execution_count": 44,
     "metadata": {},
     "output_type": "execute_result"
    }
   ],
   "source": [
    "str(\"python\")#Question 8"
   ]
  },
  {
   "cell_type": "code",
   "execution_count": 37,
   "id": "115b0464",
   "metadata": {},
   "outputs": [
    {
     "data": {
      "text/plain": [
       "'python'"
      ]
     },
     "execution_count": 37,
     "metadata": {},
     "output_type": "execute_result"
    }
   ],
   "source": [
    "\"python\"#Question 9"
   ]
  },
  {
   "cell_type": "code",
   "execution_count": 43,
   "id": "443d00b3",
   "metadata": {},
   "outputs": [
    {
     "data": {
      "text/plain": [
       "19.0"
      ]
     },
     "execution_count": 43,
     "metadata": {},
     "output_type": "execute_result"
    }
   ],
   "source": [
    "x=19/1#Question 10\n",
    "x"
   ]
  }
 ],
 "metadata": {
  "kernelspec": {
   "display_name": "Python 3",
   "language": "python",
   "name": "python3"
  },
  "language_info": {
   "codemirror_mode": {
    "name": "ipython",
    "version": 3
   },
   "file_extension": ".py",
   "mimetype": "text/x-python",
   "name": "python",
   "nbconvert_exporter": "python",
   "pygments_lexer": "ipython3",
   "version": "3.8.8"
  }
 },
 "nbformat": 4,
 "nbformat_minor": 5
}
